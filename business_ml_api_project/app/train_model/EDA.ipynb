{
 "cells": [
  {
   "cell_type": "code",
   "execution_count": 11,
   "metadata": {},
   "outputs": [],
   "source": [
    "import numpy as np \n",
    "import pandas as pd \n",
    "import matplotlib.pyplot as plt\n",
    "import seaborn as sns\n",
    "import scipy.stats as stats\n",
    "import statistics\n",
    "\n",
    "import warnings\n",
    "warnings.filterwarnings(\"ignore\")"
   ]
  },
  {
   "cell_type": "markdown",
   "metadata": {},
   "source": [
    "**Загружаем данные.**"
   ]
  },
  {
   "cell_type": "code",
   "execution_count": 2,
   "metadata": {},
   "outputs": [],
   "source": [
    "train_data = pd.read_csv(\"train.csv\")"
   ]
  },
  {
   "cell_type": "code",
   "execution_count": 3,
   "metadata": {},
   "outputs": [
    {
     "data": {
      "text/plain": [
       "(103904, 25)"
      ]
     },
     "execution_count": 3,
     "metadata": {},
     "output_type": "execute_result"
    }
   ],
   "source": [
    "train_data.shape"
   ]
  },
  {
   "cell_type": "code",
   "execution_count": 4,
   "metadata": {},
   "outputs": [
    {
     "data": {
      "text/html": [
       "<div>\n",
       "<style scoped>\n",
       "    .dataframe tbody tr th:only-of-type {\n",
       "        vertical-align: middle;\n",
       "    }\n",
       "\n",
       "    .dataframe tbody tr th {\n",
       "        vertical-align: top;\n",
       "    }\n",
       "\n",
       "    .dataframe thead th {\n",
       "        text-align: right;\n",
       "    }\n",
       "</style>\n",
       "<table border=\"1\" class=\"dataframe\">\n",
       "  <thead>\n",
       "    <tr style=\"text-align: right;\">\n",
       "      <th></th>\n",
       "      <th>Unnamed: 0</th>\n",
       "      <th>id</th>\n",
       "      <th>Gender</th>\n",
       "      <th>Customer Type</th>\n",
       "      <th>Age</th>\n",
       "      <th>Type of Travel</th>\n",
       "      <th>Class</th>\n",
       "      <th>Flight Distance</th>\n",
       "      <th>Inflight wifi service</th>\n",
       "      <th>Departure/Arrival time convenient</th>\n",
       "      <th>...</th>\n",
       "      <th>Inflight entertainment</th>\n",
       "      <th>On-board service</th>\n",
       "      <th>Leg room service</th>\n",
       "      <th>Baggage handling</th>\n",
       "      <th>Checkin service</th>\n",
       "      <th>Inflight service</th>\n",
       "      <th>Cleanliness</th>\n",
       "      <th>Departure Delay in Minutes</th>\n",
       "      <th>Arrival Delay in Minutes</th>\n",
       "      <th>satisfaction</th>\n",
       "    </tr>\n",
       "  </thead>\n",
       "  <tbody>\n",
       "    <tr>\n",
       "      <th>0</th>\n",
       "      <td>0</td>\n",
       "      <td>70172</td>\n",
       "      <td>Male</td>\n",
       "      <td>Loyal Customer</td>\n",
       "      <td>13</td>\n",
       "      <td>Personal Travel</td>\n",
       "      <td>Eco Plus</td>\n",
       "      <td>460</td>\n",
       "      <td>3</td>\n",
       "      <td>4</td>\n",
       "      <td>...</td>\n",
       "      <td>5</td>\n",
       "      <td>4</td>\n",
       "      <td>3</td>\n",
       "      <td>4</td>\n",
       "      <td>4</td>\n",
       "      <td>5</td>\n",
       "      <td>5</td>\n",
       "      <td>25</td>\n",
       "      <td>18.0</td>\n",
       "      <td>neutral or dissatisfied</td>\n",
       "    </tr>\n",
       "    <tr>\n",
       "      <th>1</th>\n",
       "      <td>1</td>\n",
       "      <td>5047</td>\n",
       "      <td>Male</td>\n",
       "      <td>disloyal Customer</td>\n",
       "      <td>25</td>\n",
       "      <td>Business travel</td>\n",
       "      <td>Business</td>\n",
       "      <td>235</td>\n",
       "      <td>3</td>\n",
       "      <td>2</td>\n",
       "      <td>...</td>\n",
       "      <td>1</td>\n",
       "      <td>1</td>\n",
       "      <td>5</td>\n",
       "      <td>3</td>\n",
       "      <td>1</td>\n",
       "      <td>4</td>\n",
       "      <td>1</td>\n",
       "      <td>1</td>\n",
       "      <td>6.0</td>\n",
       "      <td>neutral or dissatisfied</td>\n",
       "    </tr>\n",
       "    <tr>\n",
       "      <th>2</th>\n",
       "      <td>2</td>\n",
       "      <td>110028</td>\n",
       "      <td>Female</td>\n",
       "      <td>Loyal Customer</td>\n",
       "      <td>26</td>\n",
       "      <td>Business travel</td>\n",
       "      <td>Business</td>\n",
       "      <td>1142</td>\n",
       "      <td>2</td>\n",
       "      <td>2</td>\n",
       "      <td>...</td>\n",
       "      <td>5</td>\n",
       "      <td>4</td>\n",
       "      <td>3</td>\n",
       "      <td>4</td>\n",
       "      <td>4</td>\n",
       "      <td>4</td>\n",
       "      <td>5</td>\n",
       "      <td>0</td>\n",
       "      <td>0.0</td>\n",
       "      <td>satisfied</td>\n",
       "    </tr>\n",
       "    <tr>\n",
       "      <th>3</th>\n",
       "      <td>3</td>\n",
       "      <td>24026</td>\n",
       "      <td>Female</td>\n",
       "      <td>Loyal Customer</td>\n",
       "      <td>25</td>\n",
       "      <td>Business travel</td>\n",
       "      <td>Business</td>\n",
       "      <td>562</td>\n",
       "      <td>2</td>\n",
       "      <td>5</td>\n",
       "      <td>...</td>\n",
       "      <td>2</td>\n",
       "      <td>2</td>\n",
       "      <td>5</td>\n",
       "      <td>3</td>\n",
       "      <td>1</td>\n",
       "      <td>4</td>\n",
       "      <td>2</td>\n",
       "      <td>11</td>\n",
       "      <td>9.0</td>\n",
       "      <td>neutral or dissatisfied</td>\n",
       "    </tr>\n",
       "    <tr>\n",
       "      <th>4</th>\n",
       "      <td>4</td>\n",
       "      <td>119299</td>\n",
       "      <td>Male</td>\n",
       "      <td>Loyal Customer</td>\n",
       "      <td>61</td>\n",
       "      <td>Business travel</td>\n",
       "      <td>Business</td>\n",
       "      <td>214</td>\n",
       "      <td>3</td>\n",
       "      <td>3</td>\n",
       "      <td>...</td>\n",
       "      <td>3</td>\n",
       "      <td>3</td>\n",
       "      <td>4</td>\n",
       "      <td>4</td>\n",
       "      <td>3</td>\n",
       "      <td>3</td>\n",
       "      <td>3</td>\n",
       "      <td>0</td>\n",
       "      <td>0.0</td>\n",
       "      <td>satisfied</td>\n",
       "    </tr>\n",
       "  </tbody>\n",
       "</table>\n",
       "<p>5 rows × 25 columns</p>\n",
       "</div>"
      ],
      "text/plain": [
       "   Unnamed: 0      id  Gender      Customer Type  Age   Type of Travel  \\\n",
       "0           0   70172    Male     Loyal Customer   13  Personal Travel   \n",
       "1           1    5047    Male  disloyal Customer   25  Business travel   \n",
       "2           2  110028  Female     Loyal Customer   26  Business travel   \n",
       "3           3   24026  Female     Loyal Customer   25  Business travel   \n",
       "4           4  119299    Male     Loyal Customer   61  Business travel   \n",
       "\n",
       "      Class  Flight Distance  Inflight wifi service  \\\n",
       "0  Eco Plus              460                      3   \n",
       "1  Business              235                      3   \n",
       "2  Business             1142                      2   \n",
       "3  Business              562                      2   \n",
       "4  Business              214                      3   \n",
       "\n",
       "   Departure/Arrival time convenient  ...  Inflight entertainment  \\\n",
       "0                                  4  ...                       5   \n",
       "1                                  2  ...                       1   \n",
       "2                                  2  ...                       5   \n",
       "3                                  5  ...                       2   \n",
       "4                                  3  ...                       3   \n",
       "\n",
       "   On-board service  Leg room service  Baggage handling  Checkin service  \\\n",
       "0                 4                 3                 4                4   \n",
       "1                 1                 5                 3                1   \n",
       "2                 4                 3                 4                4   \n",
       "3                 2                 5                 3                1   \n",
       "4                 3                 4                 4                3   \n",
       "\n",
       "   Inflight service  Cleanliness  Departure Delay in Minutes  \\\n",
       "0                 5            5                          25   \n",
       "1                 4            1                           1   \n",
       "2                 4            5                           0   \n",
       "3                 4            2                          11   \n",
       "4                 3            3                           0   \n",
       "\n",
       "   Arrival Delay in Minutes             satisfaction  \n",
       "0                      18.0  neutral or dissatisfied  \n",
       "1                       6.0  neutral or dissatisfied  \n",
       "2                       0.0                satisfied  \n",
       "3                       9.0  neutral or dissatisfied  \n",
       "4                       0.0                satisfied  \n",
       "\n",
       "[5 rows x 25 columns]"
      ]
     },
     "execution_count": 4,
     "metadata": {},
     "output_type": "execute_result"
    }
   ],
   "source": [
    "train_data.head()"
   ]
  },
  {
   "cell_type": "markdown",
   "metadata": {},
   "source": [
    "**Очистка данных.**"
   ]
  },
  {
   "cell_type": "code",
   "execution_count": 5,
   "metadata": {},
   "outputs": [
    {
     "data": {
      "text/plain": [
       "Unnamed: 0                             int64\n",
       "id                                     int64\n",
       "Gender                                object\n",
       "Customer Type                         object\n",
       "Age                                    int64\n",
       "Type of Travel                        object\n",
       "Class                                 object\n",
       "Flight Distance                        int64\n",
       "Inflight wifi service                  int64\n",
       "Departure/Arrival time convenient      int64\n",
       "Ease of Online booking                 int64\n",
       "Gate location                          int64\n",
       "Food and drink                         int64\n",
       "Online boarding                        int64\n",
       "Seat comfort                           int64\n",
       "Inflight entertainment                 int64\n",
       "On-board service                       int64\n",
       "Leg room service                       int64\n",
       "Baggage handling                       int64\n",
       "Checkin service                        int64\n",
       "Inflight service                       int64\n",
       "Cleanliness                            int64\n",
       "Departure Delay in Minutes             int64\n",
       "Arrival Delay in Minutes             float64\n",
       "satisfaction                          object\n",
       "dtype: object"
      ]
     },
     "execution_count": 5,
     "metadata": {},
     "output_type": "execute_result"
    }
   ],
   "source": [
    "train_data.dtypes"
   ]
  },
  {
   "cell_type": "code",
   "execution_count": 6,
   "metadata": {},
   "outputs": [
    {
     "data": {
      "text/plain": [
       "Unnamed: 0                             0\n",
       "id                                     0\n",
       "Gender                                 0\n",
       "Customer Type                          0\n",
       "Age                                    0\n",
       "Type of Travel                         0\n",
       "Class                                  0\n",
       "Flight Distance                        0\n",
       "Inflight wifi service                  0\n",
       "Departure/Arrival time convenient      0\n",
       "Ease of Online booking                 0\n",
       "Gate location                          0\n",
       "Food and drink                         0\n",
       "Online boarding                        0\n",
       "Seat comfort                           0\n",
       "Inflight entertainment                 0\n",
       "On-board service                       0\n",
       "Leg room service                       0\n",
       "Baggage handling                       0\n",
       "Checkin service                        0\n",
       "Inflight service                       0\n",
       "Cleanliness                            0\n",
       "Departure Delay in Minutes             0\n",
       "Arrival Delay in Minutes             310\n",
       "satisfaction                           0\n",
       "dtype: int64"
      ]
     },
     "execution_count": 6,
     "metadata": {},
     "output_type": "execute_result"
    }
   ],
   "source": [
    "train_data.isnull().sum()"
   ]
  },
  {
   "cell_type": "markdown",
   "metadata": {},
   "source": [
    "310 пропусков в переменной Arrival Delay in Minutes."
   ]
  },
  {
   "cell_type": "code",
   "execution_count": 12,
   "metadata": {},
   "outputs": [
    {
     "data": {
      "image/png": "[encoded data removed]",
      "text/plain": [
       "<Figure size 432x288 with 1 Axes>"
      ]
     },
     "metadata": {
      "needs_background": "light"
     },
     "output_type": "display_data"
    }
   ],
   "source": [
    "sns.set_palette(\"rainbow\")\n",
    "sns.distplot(train_data['Arrival Delay in Minutes'])\n",
    "plt.title(\"Distributuion of Arrival Delay in Minutes\")\n",
    "plt.show()"
   ]
  },
  {
   "cell_type": "code",
   "execution_count": 13,
   "metadata": {},
   "outputs": [],
   "source": [
    "# Убираем ненужные признаки\n",
    "train_data = train_data.drop(['Unnamed: 0','id'], axis=1)"
   ]
  },
  {
   "cell_type": "code",
   "execution_count": 14,
   "metadata": {},
   "outputs": [
    {
     "data": {
      "text/html": [
       "<div>\n",
       "<style scoped>\n",
       "    .dataframe tbody tr th:only-of-type {\n",
       "        vertical-align: middle;\n",
       "    }\n",
       "\n",
       "    .dataframe tbody tr th {\n",
       "        vertical-align: top;\n",
       "    }\n",
       "\n",
       "    .dataframe thead th {\n",
       "        text-align: right;\n",
       "    }\n",
       "</style>\n",
       "<table border=\"1\" class=\"dataframe\">\n",
       "  <thead>\n",
       "    <tr style=\"text-align: right;\">\n",
       "      <th></th>\n",
       "      <th>count</th>\n",
       "      <th>mean</th>\n",
       "      <th>std</th>\n",
       "      <th>min</th>\n",
       "      <th>25%</th>\n",
       "      <th>50%</th>\n",
       "      <th>75%</th>\n",
       "      <th>max</th>\n",
       "    </tr>\n",
       "  </thead>\n",
       "  <tbody>\n",
       "    <tr>\n",
       "      <th>Age</th>\n",
       "      <td>103904.0</td>\n",
       "      <td>39.379706</td>\n",
       "      <td>15.114964</td>\n",
       "      <td>7.0</td>\n",
       "      <td>27.0</td>\n",
       "      <td>40.0</td>\n",
       "      <td>51.0</td>\n",
       "      <td>85.0</td>\n",
       "    </tr>\n",
       "    <tr>\n",
       "      <th>Flight Distance</th>\n",
       "      <td>103904.0</td>\n",
       "      <td>1189.448375</td>\n",
       "      <td>997.147281</td>\n",
       "      <td>31.0</td>\n",
       "      <td>414.0</td>\n",
       "      <td>843.0</td>\n",
       "      <td>1743.0</td>\n",
       "      <td>4983.0</td>\n",
       "    </tr>\n",
       "    <tr>\n",
       "      <th>Inflight wifi service</th>\n",
       "      <td>103904.0</td>\n",
       "      <td>2.729683</td>\n",
       "      <td>1.327829</td>\n",
       "      <td>0.0</td>\n",
       "      <td>2.0</td>\n",
       "      <td>3.0</td>\n",
       "      <td>4.0</td>\n",
       "      <td>5.0</td>\n",
       "    </tr>\n",
       "    <tr>\n",
       "      <th>Departure/Arrival time convenient</th>\n",
       "      <td>103904.0</td>\n",
       "      <td>3.060296</td>\n",
       "      <td>1.525075</td>\n",
       "      <td>0.0</td>\n",
       "      <td>2.0</td>\n",
       "      <td>3.0</td>\n",
       "      <td>4.0</td>\n",
       "      <td>5.0</td>\n",
       "    </tr>\n",
       "    <tr>\n",
       "      <th>Ease of Online booking</th>\n",
       "      <td>103904.0</td>\n",
       "      <td>2.756901</td>\n",
       "      <td>1.398929</td>\n",
       "      <td>0.0</td>\n",
       "      <td>2.0</td>\n",
       "      <td>3.0</td>\n",
       "      <td>4.0</td>\n",
       "      <td>5.0</td>\n",
       "    </tr>\n",
       "    <tr>\n",
       "      <th>Gate location</th>\n",
       "      <td>103904.0</td>\n",
       "      <td>2.976883</td>\n",
       "      <td>1.277621</td>\n",
       "      <td>0.0</td>\n",
       "      <td>2.0</td>\n",
       "      <td>3.0</td>\n",
       "      <td>4.0</td>\n",
       "      <td>5.0</td>\n",
       "    </tr>\n",
       "    <tr>\n",
       "      <th>Food and drink</th>\n",
       "      <td>103904.0</td>\n",
       "      <td>3.202129</td>\n",
       "      <td>1.329533</td>\n",
       "      <td>0.0</td>\n",
       "      <td>2.0</td>\n",
       "      <td>3.0</td>\n",
       "      <td>4.0</td>\n",
       "      <td>5.0</td>\n",
       "    </tr>\n",
       "    <tr>\n",
       "      <th>Online boarding</th>\n",
       "      <td>103904.0</td>\n",
       "      <td>3.250375</td>\n",
       "      <td>1.349509</td>\n",
       "      <td>0.0</td>\n",
       "      <td>2.0</td>\n",
       "      <td>3.0</td>\n",
       "      <td>4.0</td>\n",
       "      <td>5.0</td>\n",
       "    </tr>\n",
       "    <tr>\n",
       "      <th>Seat comfort</th>\n",
       "      <td>103904.0</td>\n",
       "      <td>3.439396</td>\n",
       "      <td>1.319088</td>\n",
       "      <td>0.0</td>\n",
       "      <td>2.0</td>\n",
       "      <td>4.0</td>\n",
       "      <td>5.0</td>\n",
       "      <td>5.0</td>\n",
       "    </tr>\n",
       "    <tr>\n",
       "      <th>Inflight entertainment</th>\n",
       "      <td>103904.0</td>\n",
       "      <td>3.358158</td>\n",
       "      <td>1.332991</td>\n",
       "      <td>0.0</td>\n",
       "      <td>2.0</td>\n",
       "      <td>4.0</td>\n",
       "      <td>4.0</td>\n",
       "      <td>5.0</td>\n",
       "    </tr>\n",
       "    <tr>\n",
       "      <th>On-board service</th>\n",
       "      <td>103904.0</td>\n",
       "      <td>3.382363</td>\n",
       "      <td>1.288354</td>\n",
       "      <td>0.0</td>\n",
       "      <td>2.0</td>\n",
       "      <td>4.0</td>\n",
       "      <td>4.0</td>\n",
       "      <td>5.0</td>\n",
       "    </tr>\n",
       "    <tr>\n",
       "      <th>Leg room service</th>\n",
       "      <td>103904.0</td>\n",
       "      <td>3.351055</td>\n",
       "      <td>1.315605</td>\n",
       "      <td>0.0</td>\n",
       "      <td>2.0</td>\n",
       "      <td>4.0</td>\n",
       "      <td>4.0</td>\n",
       "      <td>5.0</td>\n",
       "    </tr>\n",
       "    <tr>\n",
       "      <th>Baggage handling</th>\n",
       "      <td>103904.0</td>\n",
       "      <td>3.631833</td>\n",
       "      <td>1.180903</td>\n",
       "      <td>1.0</td>\n",
       "      <td>3.0</td>\n",
       "      <td>4.0</td>\n",
       "      <td>5.0</td>\n",
       "      <td>5.0</td>\n",
       "    </tr>\n",
       "    <tr>\n",
       "      <th>Checkin service</th>\n",
       "      <td>103904.0</td>\n",
       "      <td>3.304290</td>\n",
       "      <td>1.265396</td>\n",
       "      <td>0.0</td>\n",
       "      <td>3.0</td>\n",
       "      <td>3.0</td>\n",
       "      <td>4.0</td>\n",
       "      <td>5.0</td>\n",
       "    </tr>\n",
       "    <tr>\n",
       "      <th>Inflight service</th>\n",
       "      <td>103904.0</td>\n",
       "      <td>3.640428</td>\n",
       "      <td>1.175663</td>\n",
       "      <td>0.0</td>\n",
       "      <td>3.0</td>\n",
       "      <td>4.0</td>\n",
       "      <td>5.0</td>\n",
       "      <td>5.0</td>\n",
       "    </tr>\n",
       "    <tr>\n",
       "      <th>Cleanliness</th>\n",
       "      <td>103904.0</td>\n",
       "      <td>3.286351</td>\n",
       "      <td>1.312273</td>\n",
       "      <td>0.0</td>\n",
       "      <td>2.0</td>\n",
       "      <td>3.0</td>\n",
       "      <td>4.0</td>\n",
       "      <td>5.0</td>\n",
       "    </tr>\n",
       "    <tr>\n",
       "      <th>Departure Delay in Minutes</th>\n",
       "      <td>103904.0</td>\n",
       "      <td>14.815618</td>\n",
       "      <td>38.230901</td>\n",
       "      <td>0.0</td>\n",
       "      <td>0.0</td>\n",
       "      <td>0.0</td>\n",
       "      <td>12.0</td>\n",
       "      <td>1592.0</td>\n",
       "    </tr>\n",
       "    <tr>\n",
       "      <th>Arrival Delay in Minutes</th>\n",
       "      <td>103594.0</td>\n",
       "      <td>15.178678</td>\n",
       "      <td>38.698682</td>\n",
       "      <td>0.0</td>\n",
       "      <td>0.0</td>\n",
       "      <td>0.0</td>\n",
       "      <td>13.0</td>\n",
       "      <td>1584.0</td>\n",
       "    </tr>\n",
       "  </tbody>\n",
       "</table>\n",
       "</div>"
      ],
      "text/plain": [
       "                                      count         mean         std   min  \\\n",
       "Age                                103904.0    39.379706   15.114964   7.0   \n",
       "Flight Distance                    103904.0  1189.448375  997.147281  31.0   \n",
       "Inflight wifi service              103904.0     2.729683    1.327829   0.0   \n",
       "Departure/Arrival time convenient  103904.0     3.060296    1.525075   0.0   \n",
       "Ease of Online booking             103904.0     2.756901    1.398929   0.0   \n",
       "Gate location                      103904.0     2.976883    1.277621   0.0   \n",
       "Food and drink                     103904.0     3.202129    1.329533   0.0   \n",
       "Online boarding                    103904.0     3.250375    1.349509   0.0   \n",
       "Seat comfort                       103904.0     3.439396    1.319088   0.0   \n",
       "Inflight entertainment             103904.0     3.358158    1.332991   0.0   \n",
       "On-board service                   103904.0     3.382363    1.288354   0.0   \n",
       "Leg room service                   103904.0     3.351055    1.315605   0.0   \n",
       "Baggage handling                   103904.0     3.631833    1.180903   1.0   \n",
       "Checkin service                    103904.0     3.304290    1.265396   0.0   \n",
       "Inflight service                   103904.0     3.640428    1.175663   0.0   \n",
       "Cleanliness                        103904.0     3.286351    1.312273   0.0   \n",
       "Departure Delay in Minutes         103904.0    14.815618   38.230901   0.0   \n",
       "Arrival Delay in Minutes           103594.0    15.178678   38.698682   0.0   \n",
       "\n",
       "                                     25%    50%     75%     max  \n",
       "Age                                 27.0   40.0    51.0    85.0  \n",
       "Flight Distance                    414.0  843.0  1743.0  4983.0  \n",
       "Inflight wifi service                2.0    3.0     4.0     5.0  \n",
       "Departure/Arrival time convenient    2.0    3.0     4.0     5.0  \n",
       "Ease of Online booking               2.0    3.0     4.0     5.0  \n",
       "Gate location                        2.0    3.0     4.0     5.0  \n",
       "Food and drink                       2.0    3.0     4.0     5.0  \n",
       "Online boarding                      2.0    3.0     4.0     5.0  \n",
       "Seat comfort                         2.0    4.0     5.0     5.0  \n",
       "Inflight entertainment               2.0    4.0     4.0     5.0  \n",
       "On-board service                     2.0    4.0     4.0     5.0  \n",
       "Leg room service                     2.0    4.0     4.0     5.0  \n",
       "Baggage handling                     3.0    4.0     5.0     5.0  \n",
       "Checkin service                      3.0    3.0     4.0     5.0  \n",
       "Inflight service                     3.0    4.0     5.0     5.0  \n",
       "Cleanliness                          2.0    3.0     4.0     5.0  \n",
       "Departure Delay in Minutes           0.0    0.0    12.0  1592.0  \n",
       "Arrival Delay in Minutes             0.0    0.0    13.0  1584.0  "
      ]
     },
     "execution_count": 14,
     "metadata": {},
     "output_type": "execute_result"
    }
   ],
   "source": [
    "train_data.describe().transpose()"
   ]
  },
  {
   "cell_type": "code",
   "execution_count": 15,
   "metadata": {},
   "outputs": [],
   "source": [
    "# Заменяем пропуски в поле Arrival Delay in Minutes нулями\n",
    "train_data['Arrival Delay in Minutes'].fillna(0, inplace = True)"
   ]
  },
  {
   "cell_type": "code",
   "execution_count": 16,
   "metadata": {},
   "outputs": [],
   "source": [
    "columns = ['Inflight wifi service','Departure/Arrival time convenient','Ease of Online booking','Gate location',\n",
    "            'Food and drink','Online boarding','Seat comfort','Inflight entertainment','On-board service','Leg room service',\n",
    "            'Baggage handling','Checkin service','Inflight service','Cleanliness']\n",
    "\n",
    "for col in columns:\n",
    "    train_data.loc[:,col] = train_data.loc[:,col].astype('object')"
   ]
  },
  {
   "cell_type": "code",
   "execution_count": 17,
   "metadata": {},
   "outputs": [
    {
     "data": {
      "text/plain": [
       "['Age',\n",
       " 'Flight Distance',\n",
       " 'Departure Delay in Minutes',\n",
       " 'Arrival Delay in Minutes']"
      ]
     },
     "execution_count": 17,
     "metadata": {},
     "output_type": "execute_result"
    }
   ],
   "source": [
    "numerical_features =train_data.select_dtypes(include=np.number).columns.to_list()\n",
    "numerical_features"
   ]
  },
  {
   "cell_type": "code",
   "execution_count": 18,
   "metadata": {},
   "outputs": [
    {
     "data": {
      "text/plain": [
       "['Gender',\n",
       " 'Customer Type',\n",
       " 'Type of Travel',\n",
       " 'Class',\n",
       " 'Inflight wifi service',\n",
       " 'Departure/Arrival time convenient',\n",
       " 'Ease of Online booking',\n",
       " 'Gate location',\n",
       " 'Food and drink',\n",
       " 'Online boarding',\n",
       " 'Seat comfort',\n",
       " 'Inflight entertainment',\n",
       " 'On-board service',\n",
       " 'Leg room service',\n",
       " 'Baggage handling',\n",
       " 'Checkin service',\n",
       " 'Inflight service',\n",
       " 'Cleanliness',\n",
       " 'satisfaction']"
      ]
     },
     "execution_count": 18,
     "metadata": {},
     "output_type": "execute_result"
    }
   ],
   "source": [
    "categorical_features = train_data.select_dtypes(exclude=np.number).columns.to_list()\n",
    "categorical_features"
   ]
  },
  {
   "cell_type": "markdown",
   "metadata": {},
   "source": [
    "**Анализ признаков.**"
   ]
  },
  {
   "cell_type": "code",
   "execution_count": 19,
   "metadata": {},
   "outputs": [
    {
     "data": {
      "image/png": "[encoded data removed]",
      "text/plain": [
       "<Figure size 432x288 with 1 Axes>"
      ]
     },
     "metadata": {
      "needs_background": "light"
     },
     "output_type": "display_data"
    },
    {
     "name": "stdout",
     "output_type": "stream",
     "text": [
      "neutral or dissatisfied    56.666731\n",
      "satisfied                  43.333269\n",
      "Name: satisfaction, dtype: float64\n"
     ]
    }
   ],
   "source": [
    "# Целевая переменная satisfaction\n",
    "\n",
    "sns.countplot(x ='satisfaction', data = train_data)\n",
    "plt.title(\"Distributuion of Satisfaction\")\n",
    "plt.show()\n",
    "\n",
    "print((train_data['satisfaction'].value_counts()/len(train_data['satisfaction']))*100)"
   ]
  },
  {
   "cell_type": "markdown",
   "metadata": {},
   "source": [
    "Датасет достаточно сбалансирован, можно не использовать ресемплинг."
   ]
  },
  {
   "cell_type": "code",
   "execution_count": 20,
   "metadata": {},
   "outputs": [
    {
     "data": {
      "image/png": "[encoded data removed]",
      "text/plain": [
       "<Figure size 432x288 with 1 Axes>"
      ]
     },
     "metadata": {
      "needs_background": "light"
     },
     "output_type": "display_data"
    },
    {
     "name": "stdout",
     "output_type": "stream",
     "text": [
      "Female    50.745881\n",
      "Male      49.254119\n",
      "Name: Gender, dtype: float64\n"
     ]
    }
   ],
   "source": [
    "# Признак Gender\n",
    "sns.countplot(x ='Gender', data = train_data)\n",
    "plt.title(\"Distributuion of Gender\")\n",
    "plt.show()\n",
    "\n",
    "print((train_data['Gender'].value_counts()/len(train_data['Gender']))*100)"
   ]
  },
  {
   "cell_type": "code",
   "execution_count": 21,
   "metadata": {},
   "outputs": [
    {
     "data": {
      "image/png": "[encoded data removed]",
      "text/plain": [
       "<Figure size 432x288 with 1 Axes>"
      ]
     },
     "metadata": {
      "needs_background": "light"
     },
     "output_type": "display_data"
    },
    {
     "name": "stdout",
     "output_type": "stream",
     "text": [
      "Loyal Customer       81.732176\n",
      "disloyal Customer    18.267824\n",
      "Name: Customer Type, dtype: float64\n"
     ]
    }
   ],
   "source": [
    "# Признак Customer type\n",
    "sns.countplot(x ='Customer Type', data = train_data)\n",
    "plt.title(\"Distributuion of Customer Type\")\n",
    "plt.show()\n",
    "\n",
    "print((train_data['Customer Type'].value_counts()/len(train_data['Customer Type']))*100)"
   ]
  },
  {
   "cell_type": "markdown",
   "metadata": {},
   "source": [
    "В датасете преобладают лояльные клиенты, больше 80%."
   ]
  },
  {
   "cell_type": "code",
   "execution_count": 22,
   "metadata": {},
   "outputs": [
    {
     "data": {
      "image/png": "[encoded data removed]",
      "text/plain": [
       "<Figure size 432x288 with 1 Axes>"
      ]
     },
     "metadata": {
      "needs_background": "light"
     },
     "output_type": "display_data"
    },
    {
     "name": "stdout",
     "output_type": "stream",
     "text": [
      "Business travel    68.962696\n",
      "Personal Travel    31.037304\n",
      "Name: Type of Travel, dtype: float64\n"
     ]
    }
   ],
   "source": [
    "# Признак Type of Travel\n",
    "sns.countplot(x ='Type of Travel', data = train_data)\n",
    "plt.title(\"Distributuion of Type of Travel\")\n",
    "plt.show()\n",
    "\n",
    "print((train_data['Type of Travel'].value_counts()/len(train_data['Type of Travel']))*100)"
   ]
  },
  {
   "cell_type": "markdown",
   "metadata": {},
   "source": [
    "В 68% случаев цель поездки - бизнес и только в 31% случаев по персональным причинам."
   ]
  },
  {
   "cell_type": "code",
   "execution_count": 23,
   "metadata": {},
   "outputs": [
    {
     "data": {
      "image/png": "[encoded data removed]",
      "text/plain": [
       "<Figure size 432x288 with 1 Axes>"
      ]
     },
     "metadata": {
      "needs_background": "light"
     },
     "output_type": "display_data"
    },
    {
     "name": "stdout",
     "output_type": "stream",
     "text": [
      "Business    47.798930\n",
      "Eco         44.988643\n",
      "Eco Plus     7.212427\n",
      "Name: Class, dtype: float64\n"
     ]
    }
   ],
   "source": [
    "# Признак Class\n",
    "sns.countplot(x ='Class', data = train_data)\n",
    "plt.title(\"Distributuion of Class\")\n",
    "plt.show()\n",
    "\n",
    "print((train_data['Class'].value_counts()/len(train_data['Class']))*100)"
   ]
  },
  {
   "cell_type": "markdown",
   "metadata": {},
   "source": [
    "Преобладают пассажиры бизнес класса, чуть меньше Eco класс и всего 7% Eco Plus."
   ]
  },
  {
   "cell_type": "code",
   "execution_count": 24,
   "metadata": {},
   "outputs": [
    {
     "data": {
      "image/png": "[encoded data removed]",
      "text/plain": [
       "<Figure size 432x288 with 1 Axes>"
      ]
     },
     "metadata": {
      "needs_background": "light"
     },
     "output_type": "display_data"
    },
    {
     "name": "stdout",
     "output_type": "stream",
     "text": [
      "3    24.896058\n",
      "2    24.859486\n",
      "4    19.050277\n",
      "1    17.169695\n",
      "5    11.038074\n",
      "0     2.986411\n",
      "Name: Inflight wifi service, dtype: float64\n"
     ]
    }
   ],
   "source": [
    "# Признак Inflight wifi service\n",
    "sns.countplot(x ='Inflight wifi service', data = train_data)\n",
    "plt.title(\"Distributuion of Inflight wifi service\")\n",
    "plt.show()\n",
    "\n",
    "print((train_data['Inflight wifi service'].value_counts()/len(train_data['Inflight wifi service']))*100)"
   ]
  },
  {
   "cell_type": "markdown",
   "metadata": {},
   "source": [
    "Только в 3% случаев wi-fi на борту был недоступен."
   ]
  },
  {
   "cell_type": "code",
   "execution_count": 25,
   "metadata": {},
   "outputs": [
    {
     "data": {
      "image/png": "[encoded data removed]",
      "text/plain": [
       "<Figure size 432x288 with 1 Axes>"
      ]
     },
     "metadata": {
      "needs_background": "light"
     },
     "output_type": "display_data"
    },
    {
     "name": "stdout",
     "output_type": "stream",
     "text": [
      "4    24.586156\n",
      "5    21.561249\n",
      "3    17.290961\n",
      "2    16.545080\n",
      "1    14.915691\n",
      "0     5.100862\n",
      "Name: Departure/Arrival time convenient, dtype: float64\n"
     ]
    }
   ],
   "source": [
    "# Признак Departure/Arrival time convenient\n",
    "sns.countplot(x ='Departure/Arrival time convenient', data = train_data)\n",
    "plt.title(\"Distributuion of Departure/Arrival time convenient\")\n",
    "plt.show()\n",
    "\n",
    "print((train_data['Departure/Arrival time convenient'].value_counts()/len(train_data['Departure/Arrival time convenient']))*100)"
   ]
  },
  {
   "cell_type": "markdown",
   "metadata": {},
   "source": [
    "Преобладают высокие оценки удобства прилетов/вылетов."
   ]
  },
  {
   "cell_type": "code",
   "execution_count": 26,
   "metadata": {},
   "outputs": [
    {
     "data": {
      "image/png": "[encoded data removed]",
      "text/plain": [
       "<Figure size 432x288 with 1 Axes>"
      ]
     },
     "metadata": {
      "needs_background": "light"
     },
     "output_type": "display_data"
    },
    {
     "name": "stdout",
     "output_type": "stream",
     "text": [
      "3    23.530374\n",
      "2    23.118455\n",
      "4    18.835656\n",
      "1    16.866531\n",
      "5    13.330574\n",
      "0     4.318409\n",
      "Name: Ease of Online booking, dtype: float64\n"
     ]
    }
   ],
   "source": [
    "# Признак Ease of Online booking\n",
    "sns.countplot(x ='Ease of Online booking', data = train_data)\n",
    "plt.title(\"Distributuion of Ease of Online booking\")\n",
    "plt.show()\n",
    "\n",
    "print((train_data['Ease of Online booking'].value_counts()/len(train_data['Ease of Online booking']))*100)"
   ]
  },
  {
   "cell_type": "markdown",
   "metadata": {},
   "source": [
    "Оценки распределены равномерно, с небольшим преобладанием средних оценок."
   ]
  },
  {
   "cell_type": "code",
   "execution_count": 27,
   "metadata": {},
   "outputs": [
    {
     "data": {
      "image/png": "[encoded data removed]",
      "text/plain": [
       "<Figure size 432x288 with 1 Axes>"
      ]
     },
     "metadata": {
      "needs_background": "light"
     },
     "output_type": "display_data"
    },
    {
     "name": "stdout",
     "output_type": "stream",
     "text": [
      "3    27.503272\n",
      "4    23.508238\n",
      "2    18.727864\n",
      "1    16.902140\n",
      "5    13.357522\n",
      "0     0.000962\n",
      "Name: Gate location, dtype: float64\n"
     ]
    }
   ],
   "source": [
    "# Признак Gate location\n",
    "sns.countplot(x ='Gate location', data = train_data)\n",
    "plt.title(\"Distributuion of Gate location\")\n",
    "plt.show()\n",
    "\n",
    "print((train_data['Gate location'].value_counts()/len(train_data['Gate location']))*100)"
   ]
  },
  {
   "cell_type": "code",
   "execution_count": 29,
   "metadata": {},
   "outputs": [
    {
     "data": {
      "image/png": "[encoded data removed]",
      "text/plain": [
       "<Figure size 432x288 with 1 Axes>"
      ]
     },
     "metadata": {
      "needs_background": "light"
     },
     "output_type": "display_data"
    },
    {
     "name": "stdout",
     "output_type": "stream",
     "text": [
      "4    23.443756\n",
      "5    21.474630\n",
      "3    21.462119\n",
      "2    21.161842\n",
      "1    12.354674\n",
      "0     0.102980\n",
      "Name: Food and drink, dtype: float64\n"
     ]
    }
   ],
   "source": [
    "# Признак Food and drink\n",
    "sns.countplot(x ='Food and drink', data = train_data)\n",
    "plt.title(\"Distributuion of Food and drink\")\n",
    "plt.show()\n",
    "\n",
    "print((train_data['Food and drink'].value_counts()/len(train_data['Food and drink']))*100)"
   ]
  },
  {
   "cell_type": "code",
   "execution_count": 30,
   "metadata": {},
   "outputs": [
    {
     "data": {
      "image/png": "[encoded data removed]",
      "text/plain": [
       "<Figure size 432x288 with 1 Axes>"
      ]
     },
     "metadata": {
      "needs_background": "light"
     },
     "output_type": "display_data"
    },
    {
     "name": "stdout",
     "output_type": "stream",
     "text": [
      "4    29.606175\n",
      "3    20.984755\n",
      "5    19.934747\n",
      "2    16.847282\n",
      "1    10.290268\n",
      "0     2.336772\n",
      "Name: Online boarding, dtype: float64\n"
     ]
    }
   ],
   "source": [
    "# Признак Online boarding\n",
    "sns.countplot(x ='Online boarding', data = train_data)\n",
    "plt.title(\"Distributuion of Online boarding\")\n",
    "plt.show()\n",
    "\n",
    "print((train_data['Online boarding'].value_counts()/len(train_data['Online boarding']))*100)"
   ]
  },
  {
   "cell_type": "code",
   "execution_count": 31,
   "metadata": {},
   "outputs": [
    {
     "data": {
      "image/png": "[encoded data removed]",
      "text/plain": [
       "<Figure size 432x288 with 1 Axes>"
      ]
     },
     "metadata": {
      "needs_background": "light"
     },
     "output_type": "display_data"
    },
    {
     "name": "stdout",
     "output_type": "stream",
     "text": [
      "4    30.571489\n",
      "5    25.475439\n",
      "3    17.993532\n",
      "2    14.337273\n",
      "1    11.621304\n",
      "0     0.000962\n",
      "Name: Seat comfort, dtype: float64\n"
     ]
    }
   ],
   "source": [
    "# Признак Seat comfort\n",
    "sns.countplot(x ='Seat comfort', data = train_data)\n",
    "plt.title(\"Distributuion of Seat comfort\")\n",
    "plt.show()\n",
    "\n",
    "print((train_data['Seat comfort'].value_counts()/len(train_data['Seat comfort']))*100)"
   ]
  },
  {
   "cell_type": "code",
   "execution_count": 33,
   "metadata": {},
   "outputs": [
    {
     "data": {
      "image/png": "[encoded data removed]",
      "text/plain": [
       "<Figure size 432x288 with 1 Axes>"
      ]
     },
     "metadata": {
      "needs_background": "light"
     },
     "output_type": "display_data"
    },
    {
     "name": "stdout",
     "output_type": "stream",
     "text": [
      "4    28.317485\n",
      "5    24.265668\n",
      "3    18.419888\n",
      "2    16.974322\n",
      "1    12.009162\n",
      "0     0.013474\n",
      "Name: Inflight entertainment, dtype: float64\n"
     ]
    }
   ],
   "source": [
    "# Признак Inflight entertainment\n",
    "sns.countplot(x ='Inflight entertainment', data = train_data)\n",
    "plt.title(\"Distributuion of Inflight entertainment\")\n",
    "plt.show()\n",
    "\n",
    "print((train_data['Inflight entertainment'].value_counts()/len(train_data['Inflight entertainment']))*100)"
   ]
  },
  {
   "cell_type": "code",
   "execution_count": 34,
   "metadata": {},
   "outputs": [
    {
     "data": {
      "image/png": "[encoded data removed]",
      "text/plain": [
       "<Figure size 432x288 with 1 Axes>"
      ]
     },
     "metadata": {
      "needs_background": "light"
     },
     "output_type": "display_data"
    },
    {
     "name": "stdout",
     "output_type": "stream",
     "text": [
      "4    29.707230\n",
      "5    22.759470\n",
      "3    21.975092\n",
      "2    14.129389\n",
      "1    11.425932\n",
      "0     0.002887\n",
      "Name: On-board service, dtype: float64\n"
     ]
    }
   ],
   "source": [
    "# Признак On-board service\n",
    "sns.countplot(x ='On-board service', data = train_data)\n",
    "plt.title(\"Distributuion of On-board service\")\n",
    "plt.show()\n",
    "\n",
    "print((train_data['On-board service'].value_counts()/len(train_data['On-board service']))*100)"
   ]
  },
  {
   "cell_type": "code",
   "execution_count": 35,
   "metadata": {},
   "outputs": [
    {
     "data": {
      "image/png": "[encoded data removed]",
      "text/plain": [
       "<Figure size 432x288 with 1 Axes>"
      ]
     },
     "metadata": {
      "needs_background": "light"
     },
     "output_type": "display_data"
    },
    {
     "name": "stdout",
     "output_type": "stream",
     "text": [
      "4    27.707307\n",
      "5    23.740183\n",
      "3    19.342855\n",
      "2    18.791384\n",
      "1     9.964005\n",
      "0     0.454265\n",
      "Name: Leg room service, dtype: float64\n"
     ]
    }
   ],
   "source": [
    "# Признак Leg room service\n",
    "sns.countplot(x ='Leg room service', data = train_data)\n",
    "plt.title(\"Distributuion of Leg room service\")\n",
    "plt.show()\n",
    "\n",
    "print((train_data['Leg room service'].value_counts()/len(train_data['Leg room service']))*100)"
   ]
  },
  {
   "cell_type": "code",
   "execution_count": 36,
   "metadata": {},
   "outputs": [
    {
     "data": {
      "image/png": "[encoded data removed]",
      "text/plain": [
       "<Figure size 432x288 with 1 Axes>"
      ]
     },
     "metadata": {
      "needs_background": "light"
     },
     "output_type": "display_data"
    },
    {
     "name": "stdout",
     "output_type": "stream",
     "text": [
      "4    35.978403\n",
      "5    26.111603\n",
      "3    19.856791\n",
      "2    11.088120\n",
      "1     6.965083\n",
      "Name: Baggage handling, dtype: float64\n"
     ]
    }
   ],
   "source": [
    "# Признак Baggage handling\n",
    "sns.countplot(x ='Baggage handling', data = train_data)\n",
    "plt.title(\"Distributuion of Baggage handling\")\n",
    "plt.show()\n",
    "\n",
    "print((train_data['Baggage handling'].value_counts()/len(train_data['Baggage handling']))*100)"
   ]
  },
  {
   "cell_type": "code",
   "execution_count": 37,
   "metadata": {},
   "outputs": [
    {
     "data": {
      "image/png": "[encoded data removed]",
      "text/plain": [
       "<Figure size 432x288 with 1 Axes>"
      ]
     },
     "metadata": {
      "needs_background": "light"
     },
     "output_type": "display_data"
    },
    {
     "name": "stdout",
     "output_type": "stream",
     "text": [
      "4    27.963312\n",
      "3    27.377194\n",
      "5    19.844279\n",
      "2    12.408569\n",
      "1    12.405682\n",
      "0     0.000962\n",
      "Name: Checkin service, dtype: float64\n"
     ]
    }
   ],
   "source": [
    "# Признак Checkin service\n",
    "sns.countplot(x ='Checkin service', data = train_data)\n",
    "plt.title(\"Distributuion of Checkin service\")\n",
    "plt.show()\n",
    "\n",
    "print((train_data['Checkin service'].value_counts()/len(train_data['Checkin service']))*100)"
   ]
  },
  {
   "cell_type": "code",
   "execution_count": 38,
   "metadata": {},
   "outputs": [
    {
     "data": {
      "image/png": "[encoded data removed]",
      "text/plain": [
       "<Figure size 432x288 with 1 Axes>"
      ]
     },
     "metadata": {
      "needs_background": "light"
     },
     "output_type": "display_data"
    },
    {
     "name": "stdout",
     "output_type": "stream",
     "text": [
      "4    36.519287\n",
      "5    26.097167\n",
      "3    19.536303\n",
      "2    11.026524\n",
      "1     6.817832\n",
      "0     0.002887\n",
      "Name: Inflight service, dtype: float64\n"
     ]
    }
   ],
   "source": [
    "# Признак Inflight service\n",
    "sns.countplot(x ='Inflight service', data = train_data)\n",
    "plt.title(\"Distributuion of Inflight service\")\n",
    "plt.show()\n",
    "\n",
    "print((train_data['Inflight service'].value_counts()/len(train_data['Inflight service']))*100)"
   ]
  },
  {
   "cell_type": "code",
   "execution_count": 39,
   "metadata": {},
   "outputs": [
    {
     "data": {
      "image/png": "[encoded data removed]",
      "text/plain": [
       "<Figure size 432x288 with 1 Axes>"
      ]
     },
     "metadata": {
      "needs_background": "light"
     },
     "output_type": "display_data"
    },
    {
     "name": "stdout",
     "output_type": "stream",
     "text": [
      "4    26.157800\n",
      "3    23.650678\n",
      "5    21.836503\n",
      "2    15.525870\n",
      "1    12.817601\n",
      "0     0.011549\n",
      "Name: Cleanliness, dtype: float64\n"
     ]
    }
   ],
   "source": [
    "# Признак Cleanliness\n",
    "sns.countplot(x ='Cleanliness', data = train_data)\n",
    "plt.title(\"Distributuion of Cleanliness\")\n",
    "plt.show()\n",
    "\n",
    "print((train_data['Cleanliness'].value_counts()/len(train_data['Cleanliness']))*100)"
   ]
  },
  {
   "cell_type": "code",
   "execution_count": 40,
   "metadata": {},
   "outputs": [
    {
     "data": {
      "image/png": "[encoded data removed]",
      "text/plain": [
       "<Figure size 432x288 with 1 Axes>"
      ]
     },
     "metadata": {
      "needs_background": "light"
     },
     "output_type": "display_data"
    }
   ],
   "source": [
    "# Признак Age\n",
    "sns.boxplot(x=train_data['Age'])\n",
    "plt.title('Distribution of Age')\n",
    "plt.show()"
   ]
  },
  {
   "cell_type": "code",
   "execution_count": 41,
   "metadata": {},
   "outputs": [
    {
     "data": {
      "image/png": "[encoded data removed]",
      "text/plain": [
       "<Figure size 432x288 with 1 Axes>"
      ]
     },
     "metadata": {
      "needs_background": "light"
     },
     "output_type": "display_data"
    }
   ],
   "source": [
    "# Признак Flight Distance\n",
    "sns.boxplot(x=train_data['Flight Distance'])\n",
    "plt.title('Distribution of Flight Distance')\n",
    "plt.show()"
   ]
  },
  {
   "cell_type": "code",
   "execution_count": 42,
   "metadata": {},
   "outputs": [
    {
     "data": {
      "image/png": "[encoded data removed]",
      "text/plain": [
       "<Figure size 432x288 with 1 Axes>"
      ]
     },
     "metadata": {
      "needs_background": "light"
     },
     "output_type": "display_data"
    }
   ],
   "source": [
    "# Признак Departure Delay in Minutes\n",
    "sns.boxplot(x=train_data['Departure Delay in Minutes'])\n",
    "plt.title('Distribution of Departure Delay in Minutes')\n",
    "plt.show()"
   ]
  },
  {
   "cell_type": "code",
   "execution_count": 43,
   "metadata": {},
   "outputs": [
    {
     "data": {
      "image/png": "[encoded data removed]",
      "text/plain": [
       "<Figure size 432x288 with 1 Axes>"
      ]
     },
     "metadata": {
      "needs_background": "light"
     },
     "output_type": "display_data"
    }
   ],
   "source": [
    "# Признак Arrival Delay in Minutes\n",
    "sns.boxplot(x=train_data['Arrival Delay in Minutes'])\n",
    "plt.title('Distribution of Arrival Delay in Minutes')\n",
    "plt.show()"
   ]
  }
 ],
 "metadata": {
  "interpreter": {
   "hash": "d5fa06d29c6e0995d966e4f3cec5441dcc67a1aab015cf593d47aca66b40bc70"
  },
  "kernelspec": {
   "display_name": "Python 3.9.9 64-bit ('course_project_bml': venv)",
   "language": "python",
   "name": "python3"
  },
  "language_info": {
   "codemirror_mode": {
    "name": "ipython",
    "version": 3
   },
   "file_extension": ".py",
   "mimetype": "text/x-python",
   "name": "python",
   "nbconvert_exporter": "python",
   "pygments_lexer": "ipython3",
   "version": "3.9.9"
  },
  "orig_nbformat": 4
 },
 "nbformat": 4,
 "nbformat_minor": 2
}
